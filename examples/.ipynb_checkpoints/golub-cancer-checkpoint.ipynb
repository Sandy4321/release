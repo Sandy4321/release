{
 "cells": [
  {
   "cell_type": "code",
   "execution_count": 2,
   "metadata": {
    "collapsed": false
   },
   "outputs": [],
   "source": [
    "%matplotlib inline\n",
    "import time\n",
    "import itertools as it\n",
    "import numpy as np\n",
    "import matplotlib.pylab as plt\n",
    "import matplotlib.patches as patches\n",
    "import operator as op\n",
    "import scipy.cluster\n",
    "from sklearn.preprocessing import StandardScaler\n",
    "from multiprocessing import cpu_count"
   ]
  },
  {
   "cell_type": "code",
   "execution_count": 3,
   "metadata": {
    "collapsed": false
   },
   "outputs": [],
   "source": [
    "import nbutil\n",
    "import golub_utils\n",
    "\n",
    "# This data comes from:\n",
    "# http://www.broadinstitute.org/mpr/publications/projects/Leukemia/data_set_ALL_AML_train.txt\n",
    "# http://www.broadinstitute.org/mpr/publications/projects/Leukemia/table_ALL_AML_samples.txt\n",
    "relation = np.array(golub_utils.GENE_DATA, dtype=np.float)\n",
    "relation = relation.T # people x genes"
   ]
  },
  {
   "cell_type": "code",
   "execution_count": 4,
   "metadata": {
    "collapsed": false
   },
   "outputs": [
    {
     "name": "stdout",
     "output_type": "stream",
     "text": [
      "(38, 7129)\n"
     ]
    }
   ],
   "source": [
    "print relation.shape"
   ]
  },
  {
   "cell_type": "code",
   "execution_count": 5,
   "metadata": {
    "collapsed": false
   },
   "outputs": [],
   "source": [
    "# take top 100 highest variance genes\n",
    "topK = 100\n",
    "inds = map(\n",
    "    op.itemgetter(0), \n",
    "    sorted(enumerate(relation.var(axis=0)), key=op.itemgetter(1), reverse=True))[:topK]"
   ]
  },
  {
   "cell_type": "code",
   "execution_count": 6,
   "metadata": {
    "collapsed": false
   },
   "outputs": [],
   "source": [
    "small_relation = relation[:,inds]\n",
    "# scale each column of gene expression to zero mean unit variance\n",
    "small_relation = StandardScaler().fit_transform(small_relation)"
   ]
  },
  {
   "cell_type": "code",
   "execution_count": 7,
   "metadata": {
    "collapsed": false
   },
   "outputs": [
    {
     "name": "stdout",
     "output_type": "stream",
     "text": [
      "[[ 0.28533844  0.79394618  0.14882763 ...,  0.72536091 -0.15434762\n",
      "  -0.50003737]\n",
      " [-0.33250523  0.60202902  0.66767738 ...,  0.72863169 -0.11204041\n",
      "   2.01110035]\n",
      " [ 1.12047391 -0.94067332 -0.59478749 ...,  2.17163823 -0.18294968\n",
      "   3.14777404]\n",
      " ..., \n",
      " [ 0.53961778 -0.46653759 -0.7292541  ..., -0.6450939  -0.33102491\n",
      "  -0.1929413 ]\n",
      " [ 0.22654184 -0.26373302  0.30280172 ...,  0.72417154 -0.19754864\n",
      "   0.20556664]\n",
      " [-1.10117496  0.99248118 -1.03204937 ..., -0.99952699  0.81424915\n",
      "  -0.47434645]]\n"
     ]
    }
   ],
   "source": [
    "print small_relation"
   ]
  },
  {
   "cell_type": "code",
   "execution_count": 8,
   "metadata": {
    "collapsed": false
   },
   "outputs": [
    {
     "ename": "ImportError",
     "evalue": "cannot import name query",
     "output_type": "error",
     "traceback": [
      "\u001b[0;31m---------------------------------------------------------------------------\u001b[0m",
      "\u001b[0;31mImportError\u001b[0m                               Traceback (most recent call last)",
      "\u001b[0;32m<ipython-input-8-fc288d0d02c6>\u001b[0m in \u001b[0;36m<module>\u001b[0;34m()\u001b[0m\n\u001b[1;32m      3\u001b[0m \u001b[0;32mfrom\u001b[0m \u001b[0mmicroscopes\u001b[0m\u001b[0;34m.\u001b[0m\u001b[0mmodels\u001b[0m \u001b[0;32mimport\u001b[0m \u001b[0mnich\u001b[0m \u001b[0;32mas\u001b[0m \u001b[0mnormal_inverse_chi_squared\u001b[0m\u001b[0;34m\u001b[0m\u001b[0m\n\u001b[1;32m      4\u001b[0m \u001b[0;32mfrom\u001b[0m \u001b[0mmicroscopes\u001b[0m\u001b[0;34m.\u001b[0m\u001b[0mirm\u001b[0m\u001b[0;34m.\u001b[0m\u001b[0mdefinition\u001b[0m \u001b[0;32mimport\u001b[0m \u001b[0mmodel_definition\u001b[0m\u001b[0;34m\u001b[0m\u001b[0m\n\u001b[0;32m----> 5\u001b[0;31m \u001b[0;32mfrom\u001b[0m \u001b[0mmicroscopes\u001b[0m\u001b[0;34m.\u001b[0m\u001b[0mirm\u001b[0m \u001b[0;32mimport\u001b[0m \u001b[0mmodel\u001b[0m\u001b[0;34m,\u001b[0m \u001b[0mrunner\u001b[0m\u001b[0;34m,\u001b[0m \u001b[0mquery\u001b[0m\u001b[0;34m\u001b[0m\u001b[0m\n\u001b[0m\u001b[1;32m      6\u001b[0m \u001b[0;32mfrom\u001b[0m \u001b[0mmicroscopes\u001b[0m\u001b[0;34m.\u001b[0m\u001b[0mkernels\u001b[0m \u001b[0;32mimport\u001b[0m \u001b[0mparallel\u001b[0m\u001b[0;34m\u001b[0m\u001b[0m\n\u001b[1;32m      7\u001b[0m \u001b[0;32mfrom\u001b[0m \u001b[0mmicroscopes\u001b[0m\u001b[0;34m.\u001b[0m\u001b[0mcommon\u001b[0m\u001b[0;34m.\u001b[0m\u001b[0mquery\u001b[0m \u001b[0;32mimport\u001b[0m \u001b[0mzmatrix_reorder\u001b[0m\u001b[0;34m,\u001b[0m \u001b[0mzmatrix_heuristic_block_ordering\u001b[0m\u001b[0;34m\u001b[0m\u001b[0m\n",
      "\u001b[0;31mImportError\u001b[0m: cannot import name query"
     ]
    }
   ],
   "source": [
    "from microscopes.common.rng import rng\n",
    "from microscopes.common.relation.dataview import numpy_dataview\n",
    "from microscopes.models import nich as normal_inverse_chi_squared\n",
    "from microscopes.irm.definition import model_definition\n",
    "from microscopes.irm import model, runner, query\n",
    "from microscopes.kernels import parallel\n",
    "from microscopes.common.query import zmatrix_reorder, zmatrix_heuristic_block_ordering"
   ]
  },
  {
   "cell_type": "code",
   "execution_count": null,
   "metadata": {
    "collapsed": false
   },
   "outputs": [],
   "source": [
    "defn = model_definition(domains=small_relation.shape, relations=[((0, 1), normal_inverse_chi_squared)])\n",
    "views = [numpy_dataview(small_relation)]\n",
    "prng = rng()\n",
    "nchains = 50\n",
    "latents = [model.initialize(defn, views, prng) for _ in xrange(nchains)]\n",
    "kc = runner.default_kernel_config(defn)\n",
    "runners = [runner.runner(defn, views, latent, kc) for latent in latents]"
   ]
  },
  {
   "cell_type": "code",
   "execution_count": null,
   "metadata": {
    "collapsed": false
   },
   "outputs": [],
   "source": [
    "start = time.time()\n",
    "r = parallel.runner(runners)\n",
    "r.run(r=prng, niters=1000) # burnin\n",
    "print \"finished in\", (time.time() - start), \"seconds\""
   ]
  },
  {
   "cell_type": "code",
   "execution_count": null,
   "metadata": {
    "collapsed": false
   },
   "outputs": [],
   "source": [
    "infers = r.get_latents()\n",
    "zmat_people = query.zmatrix(0, infers)\n",
    "zmat_genes = query.zmatrix(1, infers)"
   ]
  },
  {
   "cell_type": "code",
   "execution_count": null,
   "metadata": {
    "collapsed": false
   },
   "outputs": [],
   "source": [
    "# order ALL/B, ALL/T, and then AML\n",
    "inds_allb = [i for i, t in enumerate(golub_utils.CANCER_TYPES) if t == \"ALL/B\"]\n",
    "inds_allt = [i for i, t in enumerate(golub_utils.CANCER_TYPES) if t == \"ALL/T\"]\n",
    "inds_aml = [i for i, t in enumerate(golub_utils.CANCER_TYPES) if t == \"AML\"]\n",
    "indices = inds_allb + inds_allt + inds_aml\n",
    "\n",
    "with nbutil.figsize(10.0, 8.0) as _:\n",
    "    plt.subplot(2, 2, 1)\n",
    "    plt.imshow(zmatrix_reorder(zmat_people, indices), \n",
    "               cmap=plt.cm.binary, interpolation='nearest')\n",
    "    nall = len(inds_allb) + len(inds_allt)\n",
    "    rect1 = patches.Rectangle((-1, -1), \n",
    "        width=len(inds_allb)+0.5,\n",
    "        height=len(inds_allb)+0.5, \n",
    "        alpha=0.5, \n",
    "        fc=\"red\")\n",
    "    rect2 = patches.Rectangle((len(inds_allb)-.5, len(inds_allb)-.5), \n",
    "        width=len(inds_allt),\n",
    "        height=len(inds_allt), \n",
    "        alpha=0.5, \n",
    "        fc=\"green\")\n",
    "    rect3 = patches.Rectangle((nall-.5, nall-.5), \n",
    "        width=len(inds_aml)+0.5,\n",
    "        height=len(inds_aml)+0.5, \n",
    "        alpha=0.5, \n",
    "        fc=\"blue\")\n",
    "    plt.gca().add_patch(rect1)\n",
    "    plt.gca().add_patch(rect2)\n",
    "    plt.gca().add_patch(rect3)\n",
    "    \n",
    "    plt.xlabel('people')\n",
    "    plt.ylabel('people')\n",
    "    plt.title('Z-matrix')\n",
    "\n",
    "    plt.subplot(2, 2, 2)\n",
    "    plt.imshow(zmat_genes, cmap=plt.cm.binary, interpolation='nearest')\n",
    "    plt.xlabel('genes')\n",
    "    plt.ylabel('genes')\n",
    "    plt.title('Z-matrix')\n",
    "    plt.tight_layout()"
   ]
  },
  {
   "cell_type": "markdown",
   "metadata": {},
   "source": [
    "Red patch indicates these people have the \"ALL/B\" type of cancer\n",
    "\n",
    "Green patch indicates \"ALL/T\" type of cancer\n",
    "\n",
    "Blue patch indicates \"AML\" type of cancer"
   ]
  },
  {
   "cell_type": "code",
   "execution_count": null,
   "metadata": {
    "collapsed": false
   },
   "outputs": [],
   "source": [
    "def subst(name):\n",
    "    if name == \"ALL/B\": return \"B\"\n",
    "    if name == \"ALL/T\": return \"T\"\n",
    "    return name\n",
    "\n",
    "ordering_people = zmatrix_heuristic_block_ordering(zmat_people)\n",
    "ordering_genes = zmatrix_heuristic_block_ordering(zmat_genes)\n",
    "\n",
    "people_labels = np.array(map(subst, golub_utils.CANCER_TYPES))[ordering_people]\n",
    "genes_labels = np.array(golub_utils.GENE_IDENTS)[ordering_genes]"
   ]
  },
  {
   "cell_type": "code",
   "execution_count": null,
   "metadata": {
    "collapsed": false
   },
   "outputs": [],
   "source": [
    "with nbutil.figsize(21., 16.) as _:\n",
    "    plt.subplot(1, 2, 1)\n",
    "    plt.imshow(zmatrix_reorder(zmat_people, ordering_people), \n",
    "               cmap=plt.cm.binary, interpolation='nearest')\n",
    "    plt.xlabel(\"people (sorted)\")\n",
    "    plt.ylabel(\"people (sorted)\")\n",
    "    plt.xticks(range(zmat_people.shape[0]), people_labels, rotation='vertical')\n",
    "    plt.yticks(range(zmat_people.shape[0]), people_labels)\n",
    "    plt.title(\"clustered Z-matrix of people\")\n",
    "    \n",
    "    plt.subplot(1, 2, 2)\n",
    "    plt.imshow(zmatrix_reorder(zmat_genes, ordering_genes), \n",
    "               cmap=plt.cm.binary, interpolation='nearest')\n",
    "    plt.xlabel(\"genes (sorted)\")\n",
    "    plt.ylabel(\"genes (sorted)\")\n",
    "    plt.title(\"clustered Z-matrix of genes\")\n",
    "    \n",
    "    plt.tight_layout()"
   ]
  },
  {
   "cell_type": "code",
   "execution_count": null,
   "metadata": {
    "collapsed": false
   },
   "outputs": [],
   "source": [
    "with nbutil.figsize(14., 10.) as _:\n",
    "    plt.imshow(small_relation, cmap=plt.cm.BrBG, interpolation='nearest')\n",
    "    plt.xlabel(\"genes\")\n",
    "    plt.ylabel(\"people\")"
   ]
  },
  {
   "cell_type": "code",
   "execution_count": null,
   "metadata": {
    "collapsed": false
   },
   "outputs": [],
   "source": [
    "z = small_relation.copy()\n",
    "z = z[ordering_people]\n",
    "z = z[:,ordering_genes]\n",
    "\n",
    "z1 = z[:,:z.shape[1]/2]\n",
    "z2 = z[:,z.shape[1]/2:]\n",
    "\n",
    "with nbutil.figsize(20., 16.) as _:\n",
    "    plt.subplot(2, 1, 1)\n",
    "    plt.imshow(z1, cmap=plt.cm.BrBG, interpolation='nearest')\n",
    "    plt.xlabel(\"genes (sorted)\")\n",
    "    plt.ylabel(\"people (sorted)\")\n",
    "    plt.xticks(range(z1.shape[1]), genes_labels[:z1.shape[1]], \n",
    "               size=8, rotation='vertical')\n",
    "    plt.yticks(range(len(people_labels)), people_labels, size=8)\n",
    "    \n",
    "    plt.subplot(2, 1, 2)\n",
    "    plt.imshow(z2, cmap=plt.cm.BrBG, interpolation='nearest')\n",
    "    plt.xlabel(\"genes (sorted)\")\n",
    "    plt.ylabel(\"people (sorted)\")\n",
    "    plt.xticks(range(z2.shape[1]), genes_labels[z1.shape[1]:], \n",
    "               size=8, rotation='vertical')\n",
    "    plt.yticks(range(len(people_labels)), people_labels, size=8)\n",
    "    \n",
    "    plt.tight_layout()"
   ]
  },
  {
   "cell_type": "markdown",
   "metadata": {},
   "source": [
    "Dark brown is low values, dark green is high values."
   ]
  },
  {
   "cell_type": "code",
   "execution_count": null,
   "metadata": {
    "collapsed": false
   },
   "outputs": [],
   "source": []
  }
 ],
 "metadata": {
  "kernelspec": {
   "display_name": "Python 2",
   "language": "python",
   "name": "python2"
  },
  "language_info": {
   "codemirror_mode": {
    "name": "ipython",
    "version": 2
   },
   "file_extension": ".py",
   "mimetype": "text/x-python",
   "name": "python",
   "nbconvert_exporter": "python",
   "pygments_lexer": "ipython2",
   "version": "2.7.9"
  }
 },
 "nbformat": 4,
 "nbformat_minor": 0
}
