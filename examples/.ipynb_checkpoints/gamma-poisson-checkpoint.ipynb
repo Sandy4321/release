{
 "cells": [
  {
   "cell_type": "markdown",
   "metadata": {},
   "source": [
    "#Count Data and Ordinal Data with the Gamma-Poisson Distribution\n",
    "\n",
    "Typically, we model count data, or integer valued data, with the gamma-Poisson distribution\n",
    "\n",
    "Recall that the Poisson distribution is a distribution over integer values parameterized by $\\lambda$. One interpretation behind $\\lambda$ is that it parameterizes the rate at which events occur with a fixed interval, assuming these events occur independently.  The gamma distribution is conjugate to the Poisson distribution, so the gamma-Poisson distribution allows us to learn both the distribution over counts and the rate parameter $\\lambda$.\n",
    "\n",
    "Let's set up our environment and consider some examples of count data"
   ]
  },
  {
   "cell_type": "code",
   "execution_count": 127,
   "metadata": {
    "collapsed": true
   },
   "outputs": [],
   "source": [
    "import pandas as pd\n",
    "import seaborn as sns\n",
    "import numpy as np\n",
    "import matplotlib.pyplot as plt\n",
    "sns.set_context('talk')\n",
    "import csv\n",
    "import urllib2\n",
    "import StringIO\n",
    "\n",
    "%matplotlib inline"
   ]
  },
  {
   "cell_type": "markdown",
   "metadata": {},
   "source": [
    "[Children Ever Born](http://data.princeton.edu/wws509/datasets/#ceb) is a dataset of birthrates in Fiji from the *World Fertility Survey* with the following columns:\n",
    "\n",
    "\n",
    "- `dur`: marriage duration\n",
    "- `res`: residence,\n",
    "- `educ`: level of education,\n",
    "- `mean`: mean number of born,\n",
    "- `var`: variance of children born\n",
    "- `y`: number of women\n",
    "\n",
    "Ordinal columns `dur`, `res`, and `educ` are shown as text in the following dataset "
   ]
  },
  {
   "cell_type": "code",
   "execution_count": 53,
   "metadata": {
    "collapsed": false
   },
   "outputs": [
    {
     "data": {
      "text/html": [
       "<div>\n",
       "<table border=\"1\" class=\"dataframe\">\n",
       "  <thead>\n",
       "    <tr style=\"text-align: right;\">\n",
       "      <th></th>\n",
       "      <th>dur</th>\n",
       "      <th>res</th>\n",
       "      <th>educ</th>\n",
       "      <th>mean</th>\n",
       "      <th>var</th>\n",
       "      <th>n</th>\n",
       "      <th>y</th>\n",
       "    </tr>\n",
       "  </thead>\n",
       "  <tbody>\n",
       "    <tr>\n",
       "      <th>1</th>\n",
       "      <td>0-4</td>\n",
       "      <td>Suva</td>\n",
       "      <td>none</td>\n",
       "      <td>0.50</td>\n",
       "      <td>1.14</td>\n",
       "      <td>8</td>\n",
       "      <td>4.00</td>\n",
       "    </tr>\n",
       "    <tr>\n",
       "      <th>2</th>\n",
       "      <td>0-4</td>\n",
       "      <td>Suva</td>\n",
       "      <td>lower</td>\n",
       "      <td>1.14</td>\n",
       "      <td>0.73</td>\n",
       "      <td>21</td>\n",
       "      <td>23.94</td>\n",
       "    </tr>\n",
       "    <tr>\n",
       "      <th>3</th>\n",
       "      <td>0-4</td>\n",
       "      <td>Suva</td>\n",
       "      <td>upper</td>\n",
       "      <td>0.90</td>\n",
       "      <td>0.67</td>\n",
       "      <td>42</td>\n",
       "      <td>37.80</td>\n",
       "    </tr>\n",
       "    <tr>\n",
       "      <th>4</th>\n",
       "      <td>0-4</td>\n",
       "      <td>Suva</td>\n",
       "      <td>sec+</td>\n",
       "      <td>0.73</td>\n",
       "      <td>0.48</td>\n",
       "      <td>51</td>\n",
       "      <td>37.23</td>\n",
       "    </tr>\n",
       "    <tr>\n",
       "      <th>5</th>\n",
       "      <td>0-4</td>\n",
       "      <td>urban</td>\n",
       "      <td>none</td>\n",
       "      <td>1.17</td>\n",
       "      <td>1.06</td>\n",
       "      <td>12</td>\n",
       "      <td>14.04</td>\n",
       "    </tr>\n",
       "  </tbody>\n",
       "</table>\n",
       "</div>"
      ],
      "text/plain": [
       "   dur    res   educ  mean   var   n      y\n",
       "1  0-4   Suva   none  0.50  1.14   8   4.00\n",
       "2  0-4   Suva  lower  1.14  0.73  21  23.94\n",
       "3  0-4   Suva  upper  0.90  0.67  42  37.80\n",
       "4  0-4   Suva   sec+  0.73  0.48  51  37.23\n",
       "5  0-4  urban   none  1.17  1.06  12  14.04"
      ]
     },
     "execution_count": 53,
     "metadata": {},
     "output_type": "execute_result"
    }
   ],
   "source": [
    "ceb = pd.read_csv('http://data.princeton.edu/wws509/datasets/ceb.dat', sep='\\s+')\n",
    "ceb.head()"
   ]
  },
  {
   "cell_type": "markdown",
   "metadata": {},
   "source": [
    "With the these columns encoded, we can now represent them as integers\n",
    "\n",
    "`dur` and `educ` are ordinal columns.  Additionally, number of women, `n`, is integer valued."
   ]
  },
  {
   "cell_type": "code",
   "execution_count": 102,
   "metadata": {
    "collapsed": false
   },
   "outputs": [
    {
     "data": {
      "text/html": [
       "<div>\n",
       "<table border=\"1\" class=\"dataframe\">\n",
       "  <thead>\n",
       "    <tr style=\"text-align: right;\">\n",
       "      <th></th>\n",
       "      <th>dur</th>\n",
       "      <th>res</th>\n",
       "      <th>educ</th>\n",
       "      <th>mean</th>\n",
       "      <th>var</th>\n",
       "      <th>n</th>\n",
       "    </tr>\n",
       "    <tr>\n",
       "      <th>index</th>\n",
       "      <th></th>\n",
       "      <th></th>\n",
       "      <th></th>\n",
       "      <th></th>\n",
       "      <th></th>\n",
       "      <th></th>\n",
       "    </tr>\n",
       "  </thead>\n",
       "  <tbody>\n",
       "    <tr>\n",
       "      <th>1</th>\n",
       "      <td>1</td>\n",
       "      <td>1</td>\n",
       "      <td>1</td>\n",
       "      <td>0.50</td>\n",
       "      <td>1.14</td>\n",
       "      <td>8</td>\n",
       "    </tr>\n",
       "    <tr>\n",
       "      <th>2</th>\n",
       "      <td>1</td>\n",
       "      <td>1</td>\n",
       "      <td>2</td>\n",
       "      <td>1.14</td>\n",
       "      <td>0.73</td>\n",
       "      <td>21</td>\n",
       "    </tr>\n",
       "    <tr>\n",
       "      <th>3</th>\n",
       "      <td>1</td>\n",
       "      <td>1</td>\n",
       "      <td>3</td>\n",
       "      <td>0.90</td>\n",
       "      <td>0.67</td>\n",
       "      <td>42</td>\n",
       "    </tr>\n",
       "    <tr>\n",
       "      <th>4</th>\n",
       "      <td>1</td>\n",
       "      <td>1</td>\n",
       "      <td>4</td>\n",
       "      <td>0.73</td>\n",
       "      <td>0.48</td>\n",
       "      <td>51</td>\n",
       "    </tr>\n",
       "    <tr>\n",
       "      <th>5</th>\n",
       "      <td>1</td>\n",
       "      <td>2</td>\n",
       "      <td>1</td>\n",
       "      <td>1.17</td>\n",
       "      <td>1.06</td>\n",
       "      <td>12</td>\n",
       "    </tr>\n",
       "  </tbody>\n",
       "</table>\n",
       "</div>"
      ],
      "text/plain": [
       "       dur  res  educ  mean   var   n\n",
       "index                                \n",
       "1        1    1     1  0.50  1.14   8\n",
       "2        1    1     2  1.14  0.73  21\n",
       "3        1    1     3  0.90  0.67  42\n",
       "4        1    1     4  0.73  0.48  51\n",
       "5        1    2     1  1.17  1.06  12"
      ]
     },
     "execution_count": 102,
     "metadata": {},
     "output_type": "execute_result"
    }
   ],
   "source": [
    "ceb_int = pd.read_csv('http://data.princeton.edu/wws509/datasets/ceb.raw', sep='\\s+', names = ['index'] + list(ceb.columns[:-1]), index_col=0)\n",
    "ceb_int.head()"
   ]
  },
  {
   "cell_type": "markdown",
   "metadata": {},
   "source": [
    "We can map these orderings of `dur` and `educ` to produce a crosstab heatmap of `n`, numbe of women"
   ]
  },
  {
   "cell_type": "code",
   "execution_count": 101,
   "metadata": {
    "collapsed": false
   },
   "outputs": [
    {
     "data": {
      "text/plain": [
       "<matplotlib.text.Text at 0x11a8f48d0>"
      ]
     },
     "execution_count": 101,
     "metadata": {},
     "output_type": "execute_result"
    },
    {
     "data": {
      "image/png": "[encoded data removed]",
      "text/plain": [
       "<matplotlib.figure.Figure at 0x11a72f050>"
      ]
     },
     "metadata": {},
     "output_type": "display_data"
    }
   ],
   "source": [
    "plt.figure(figsize=(9,6))\n",
    "ct = pd.crosstab(ceb_int['dur'], ceb_int['educ'], values=ceb_int['n'], aggfunc= np.sum).sort_index(ascending = False)\n",
    "sns.heatmap(ct, annot = True)\n",
    "plt.yticks(ceb_int['dur'].drop_duplicates().values - .5, ceb['dur'].drop_duplicates().values)\n",
    "plt.xticks(ceb_int['educ'].drop_duplicates().values - .5, ceb['educ'].drop_duplicates().values)\n",
    "plt.ylabel('duration of marriage (years)')\n",
    "plt.xlabel('level of education')\n",
    "plt.title('heatmap of marriage duration by level of education')"
   ]
  },
  {
   "cell_type": "markdown",
   "metadata": {},
   "source": [
    "Since `dur` and `education` are ordinal valued, the columns assume a small number of integer values\n",
    "\n",
    "Additionally, the [caffeine dataset](http://stanford.edu/class/psych252/data/index.html) below measures caffeine intake and performance on a 10 question quiz.  The variables are:\n",
    "\n",
    "- `coffee`: coffee intake (1 = 0 cups, 2 = 2 cups, 3 = 4 cups)\n",
    "- `perf`: quiz score\n",
    "- `numprob`: problems attempted\n",
    "- `accur`: accuracy"
   ]
  },
  {
   "cell_type": "code",
   "execution_count": 131,
   "metadata": {
    "collapsed": false
   },
   "outputs": [
    {
     "data": {
      "text/html": [
       "<div>\n",
       "<table border=\"1\" class=\"dataframe\">\n",
       "  <thead>\n",
       "    <tr style=\"text-align: right;\">\n",
       "      <th></th>\n",
       "      <th>coffee</th>\n",
       "      <th>perf</th>\n",
       "      <th>accur</th>\n",
       "      <th>numprob</th>\n",
       "    </tr>\n",
       "  </thead>\n",
       "  <tbody>\n",
       "    <tr>\n",
       "      <th>0</th>\n",
       "      <td>1</td>\n",
       "      <td>53</td>\n",
       "      <td>0.449877</td>\n",
       "      <td>7</td>\n",
       "    </tr>\n",
       "    <tr>\n",
       "      <th>1</th>\n",
       "      <td>1</td>\n",
       "      <td>9</td>\n",
       "      <td>0.499534</td>\n",
       "      <td>6</td>\n",
       "    </tr>\n",
       "    <tr>\n",
       "      <th>2</th>\n",
       "      <td>1</td>\n",
       "      <td>31</td>\n",
       "      <td>0.498590</td>\n",
       "      <td>6</td>\n",
       "    </tr>\n",
       "    <tr>\n",
       "      <th>3</th>\n",
       "      <td>1</td>\n",
       "      <td>38</td>\n",
       "      <td>0.454312</td>\n",
       "      <td>7</td>\n",
       "    </tr>\n",
       "    <tr>\n",
       "      <th>4</th>\n",
       "      <td>2</td>\n",
       "      <td>40</td>\n",
       "      <td>0.421212</td>\n",
       "      <td>8</td>\n",
       "    </tr>\n",
       "  </tbody>\n",
       "</table>\n",
       "</div>"
      ],
      "text/plain": [
       "   coffee  perf     accur  numprob\n",
       "0       1    53  0.449877        7\n",
       "1       1     9  0.499534        6\n",
       "2       1    31  0.498590        6\n",
       "3       1    38  0.454312        7\n",
       "4       2    40  0.421212        8"
      ]
     },
     "execution_count": 131,
     "metadata": {},
     "output_type": "execute_result"
    }
   ],
   "source": [
    "response = urllib2.urlopen('http://stanford.edu/class/psych252/_downloads/caffeine.csv')\n",
    "html = response.read()\n",
    "caf = pd.read_csv(StringIO.StringIO(html[:-16]))\n",
    "caf.head()"
   ]
  },
  {
   "cell_type": "markdown",
   "metadata": {},
   "source": [
    "Based on the characteristics of each column, `coffee` and `numprob` easily fit into the category of count data appropriate to a gamma-Poisson distribution"
   ]
  },
  {
   "cell_type": "code",
   "execution_count": 130,
   "metadata": {
    "collapsed": false
   },
   "outputs": [
    {
     "data": {
      "text/html": [
       "<div>\n",
       "<table border=\"1\" class=\"dataframe\">\n",
       "  <thead>\n",
       "    <tr style=\"text-align: right;\">\n",
       "      <th></th>\n",
       "      <th>coffee</th>\n",
       "      <th>perf</th>\n",
       "      <th>accur</th>\n",
       "      <th>numprob</th>\n",
       "    </tr>\n",
       "  </thead>\n",
       "  <tbody>\n",
       "    <tr>\n",
       "      <th>count</th>\n",
       "      <td>60.000000</td>\n",
       "      <td>60.000000</td>\n",
       "      <td>60.000000</td>\n",
       "      <td>60.000000</td>\n",
       "    </tr>\n",
       "    <tr>\n",
       "      <th>mean</th>\n",
       "      <td>2.000000</td>\n",
       "      <td>42.366667</td>\n",
       "      <td>0.510854</td>\n",
       "      <td>7.950000</td>\n",
       "    </tr>\n",
       "    <tr>\n",
       "      <th>std</th>\n",
       "      <td>0.823387</td>\n",
       "      <td>18.350603</td>\n",
       "      <td>0.107704</td>\n",
       "      <td>1.185005</td>\n",
       "    </tr>\n",
       "    <tr>\n",
       "      <th>min</th>\n",
       "      <td>1.000000</td>\n",
       "      <td>5.000000</td>\n",
       "      <td>0.240238</td>\n",
       "      <td>6.000000</td>\n",
       "    </tr>\n",
       "    <tr>\n",
       "      <th>25%</th>\n",
       "      <td>1.000000</td>\n",
       "      <td>31.000000</td>\n",
       "      <td>0.425859</td>\n",
       "      <td>7.000000</td>\n",
       "    </tr>\n",
       "    <tr>\n",
       "      <th>50%</th>\n",
       "      <td>2.000000</td>\n",
       "      <td>40.000000</td>\n",
       "      <td>0.509806</td>\n",
       "      <td>8.000000</td>\n",
       "    </tr>\n",
       "    <tr>\n",
       "      <th>75%</th>\n",
       "      <td>3.000000</td>\n",
       "      <td>53.500000</td>\n",
       "      <td>0.594445</td>\n",
       "      <td>9.000000</td>\n",
       "    </tr>\n",
       "    <tr>\n",
       "      <th>max</th>\n",
       "      <td>3.000000</td>\n",
       "      <td>89.000000</td>\n",
       "      <td>0.748692</td>\n",
       "      <td>10.000000</td>\n",
       "    </tr>\n",
       "  </tbody>\n",
       "</table>\n",
       "</div>"
      ],
      "text/plain": [
       "          coffee       perf      accur    numprob\n",
       "count  60.000000  60.000000  60.000000  60.000000\n",
       "mean    2.000000  42.366667   0.510854   7.950000\n",
       "std     0.823387  18.350603   0.107704   1.185005\n",
       "min     1.000000   5.000000   0.240238   6.000000\n",
       "25%     1.000000  31.000000   0.425859   7.000000\n",
       "50%     2.000000  40.000000   0.509806   8.000000\n",
       "75%     3.000000  53.500000   0.594445   9.000000\n",
       "max     3.000000  89.000000   0.748692  10.000000"
      ]
     },
     "execution_count": 130,
     "metadata": {},
     "output_type": "execute_result"
    }
   ],
   "source": [
    "caf.describe()"
   ]
  },
  {
   "cell_type": "markdown",
   "metadata": {},
   "source": [
    "Note that while integer valued data with high values is sometimes modeled with a gamma-Poisson ditribution, remember that the gamma-Poisson distribution has equal mean and variance $\\lambda$:\n",
    "\n",
    "$$E(X) = Var(X) = \\lambda$$\n",
    "\n",
    "If you want to be more flexible with this assumption, you may want to consider using a normal inverse-chisquare or a normal inverse-Wishart distribution depending on your data\n",
    "\n",
    "To import the gamma-poisson likelihood, call:"
   ]
  },
  {
   "cell_type": "code",
   "execution_count": 134,
   "metadata": {
    "collapsed": false
   },
   "outputs": [],
   "source": [
    "from microscopes.models import gp as gamma_poisson"
   ]
  }
 ],
 "metadata": {
  "kernelspec": {
   "display_name": "Python 2",
   "language": "python",
   "name": "python2"
  },
  "language_info": {
   "codemirror_mode": {
    "name": "ipython",
    "version": 2
   },
   "file_extension": ".py",
   "mimetype": "text/x-python",
   "name": "python",
   "nbconvert_exporter": "python",
   "pygments_lexer": "ipython2",
   "version": "2.7.10"
  }
 },
 "nbformat": 4,
 "nbformat_minor": 0
}
